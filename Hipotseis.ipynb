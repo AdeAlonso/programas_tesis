{
 "cells": [
  {
   "cell_type": "markdown",
   "id": "58cfa972",
   "metadata": {},
   "source": [
    "Según mi hipoótesis, $\\lambda_2$ debería maximizarse cuando $R(\\Gamma)$ se minimice para cierta elección de pesos $c_1,\\ldots,c_m$ tales que $c_1+\\cdots+c_m=m$. Para el camino $P_{m+1}$ sabemos que $R(P_{m+1})=\\sum_{k=1}^{m}\\frac{k(m+1-k)}{c_k}$. Por lo tanto siguiendo mi hipótesis, consideremos el problema de minimizar $R(c_1,\\ldots,c_m)=\\sum_{k=1}^{m}\\frac{k(m+1-k)}{c_k}$ sujeto a $\\frac{c_1+\\cdots+c_m}{m}=1$. Resolviendo este problema, llegué a que $c_{j}=m\\frac{\\sqrt{j(m+1-j)}}{\\sum_{k=1}^{m}\\sqrt{k(m+1-k)}}$. Quiero hacer un programa que me calcule los eigenvalores del laplaciano $L$ para estos pesos y comparar con el caso cuando $c_1=\\cdots=c_m=1$."
   ]
  },
  {
   "cell_type": "code",
   "execution_count": 22,
   "id": "5be378f4",
   "metadata": {},
   "outputs": [],
   "source": [
    "import numpy as np\n",
    "from pylab import plot, show, legend, xlabel, ylabel"
   ]
  },
  {
   "cell_type": "code",
   "execution_count": 10,
   "id": "5dc3d676",
   "metadata": {},
   "outputs": [],
   "source": [
    "#Hace una matriz cuadrada llena de ceros\n",
    "def hacer_Matriz(n):\n",
    "    A=[]\n",
    "    for i in range(n):\n",
    "        A.append([])\n",
    "        for j in range(n):\n",
    "            A[i].append(0)\n",
    "    return A\n",
    "\n",
    "\n",
    "    \n"
   ]
  },
  {
   "cell_type": "code",
   "execution_count": 11,
   "id": "dca26c47",
   "metadata": {},
   "outputs": [],
   "source": [
    "#Calcula los eigenvalores usando los pesos que minimizan R\n",
    "def camino_eig_hip(n):\n",
    "    m=n-1    \n",
    "    s=0\n",
    "    C=[0]*(m+2)\n",
    "    N=[0]*(m+2)\n",
    "    \n",
    "    # Calcula los pesos\n",
    "    for i in range(1,m+1):\n",
    "        s=s+(i*(m+1-i))**(1/2)\n",
    "    \n",
    "    for i in range(1,m+1):\n",
    "        N[i]=((i)*(m+1-(i)))**(1/2)\n",
    "        C[i]=m*(N[i])/(s)\n",
    "   \n",
    "    #Hace una matriz de tamaño n por n\n",
    "    L=hacer_Matriz(n)\n",
    "    \n",
    "    # Llena la matriz laplaciana\n",
    "    for i in range(n):\n",
    "        for j in range (n):\n",
    "            if j==i:\n",
    "                L[i][j]=C[i+1]+C[i]\n",
    "            if j==i+1:\n",
    "                L[i][j]=-C[i+1]\n",
    "            L[j][i]=L[i][j]\n",
    "    \n",
    "    #calcula los eigenvalores\n",
    "    E=np.linalg.eigvals(L)\n",
    "    #Los ordena\n",
    "    E.sort()\n",
    "    \n",
    "    return E\n",
    "\n"
   ]
  },
  {
   "cell_type": "code",
   "execution_count": 12,
   "id": "33b2af08",
   "metadata": {},
   "outputs": [],
   "source": [
    "#Calcula los eigenvalores usando todos los pesos iguales a 1\n",
    "def camino_eig_1(n):\n",
    "    m=n-1\n",
    "    C=[1]*(m+2)\n",
    "    C[0]=0\n",
    "    C[m+1]=0\n",
    "    \n",
    "    #Hace una matriz cuadrada llena de ceros\n",
    "    L=hacerMatriz(n)\n",
    "    \n",
    "    #Llena la matriz laplaciana\n",
    "    for i in range(n):\n",
    "        for j in range(n):\n",
    "            if j==i:\n",
    "                L[i][j]=C[i+1]+C[i]\n",
    "            if j==i+1:\n",
    "                L[i][j]=-C[i+1]\n",
    "            L[j][i]=L[i][j]\n",
    "    \n",
    "    #calcula los eigenvalores\n",
    "    E=np.linalg.eigvals(L)\n",
    "    #Los ordena\n",
    "    E.sort()\n",
    "    \n",
    "    return E"
   ]
  },
  {
   "cell_type": "code",
   "execution_count": 15,
   "id": "e4b6d6c7",
   "metadata": {},
   "outputs": [
    {
     "name": "stdout",
     "output_type": "stream",
     "text": [
      "[3.59061665e-17 5.85786438e-01 2.00000000e+00 3.41421356e+00]\n"
     ]
    }
   ],
   "source": [
    "A=camino_eig_1(4)\n",
    "print(A)"
   ]
  },
  {
   "cell_type": "code",
   "execution_count": 16,
   "id": "cb97d351",
   "metadata": {},
   "outputs": [
    {
     "name": "stdout",
     "output_type": "stream",
     "text": [
      "[-3.35371091e-17  5.96419818e-01  1.90192379e+00  3.50165639e+00]\n"
     ]
    }
   ],
   "source": [
    "B=camino_eig_hip(4)\n",
    "print(B)"
   ]
  },
  {
   "cell_type": "code",
   "execution_count": 23,
   "id": "e7d50aa0",
   "metadata": {},
   "outputs": [
    {
     "data": {
      "image/png": "[encoded data removed]",
      "text/plain": [
       "<Figure size 432x288 with 1 Axes>"
      ]
     },
     "metadata": {
      "needs_background": "light"
     },
     "output_type": "display_data"
    }
   ],
   "source": [
    "#En esta parte comparo los \\lambda_2 para P_k\n",
    "k=10\n",
    "Y_1=[]\n",
    "Y_2=[]\n",
    "X=[]\n",
    "for i in range (3,k+1):\n",
    "    E1=camino_eig_hip(i)\n",
    "    E2=camino_eig_1(i)\n",
    "    Y_1.append(E1[1])\n",
    "    Y_2.append(E2[1])\n",
    "    X.append(i)\n",
    "\n",
    "#Hago un gráfico\n",
    "plot(X,Y_1,'.',X,Y_2,'.')\n",
    "xlabel('n')\n",
    "ylabel('Conectividad algebraica')\n",
    "legend(['Hipotesis','Pesos iguales a 1'])\n",
    "show()    \n"
   ]
  },
  {
   "cell_type": "code",
   "execution_count": 25,
   "id": "6225df56",
   "metadata": {},
   "outputs": [],
   "source": [
    "#Programa para calcular eigenvalores dados los pesos\n",
    "def camino_eig_pes(n,A):\n",
    "    m=n-1    \n",
    "    C=[0]*(m+2)\n",
    "    \n",
    "    #Llena C con los valores de A\n",
    "    for i in range(0,m):\n",
    "        C[i+1]=A[i]\n",
    "\n",
    "    #Hace una matriz de tamaño n por n\n",
    "    L=hacerMatriz(n)\n",
    "    \n",
    "    # Llena la matriz laplaciana\n",
    "    for i in range(n):\n",
    "        for j in range (n):\n",
    "            if j==i:\n",
    "                L[i][j]=C[i+1]+C[i]\n",
    "            if j==i+1:\n",
    "                L[i][j]=-C[i+1]\n",
    "            L[j][i]=L[i][j]\n",
    "    \n",
    "    #calcula los eigenvalores\n",
    "    E=np.linalg.eigvals(L)\n",
    "    #Los ordena\n",
    "    E.sort()\n",
    "    \n",
    "    return E"
   ]
  },
  {
   "cell_type": "code",
   "execution_count": 28,
   "id": "6bf47ef2",
   "metadata": {},
   "outputs": [
    {
     "name": "stdout",
     "output_type": "stream",
     "text": [
      "[1.27888373e-17 6.00000000e-01 1.80000000e+00 3.60000000e+00]\n"
     ]
    }
   ],
   "source": [
    "R=[0.9,1.2,0.9]\n",
    "S=camino_eig_pes(4,R)\n",
    "print(S)"
   ]
  },
  {
   "cell_type": "code",
   "execution_count": 29,
   "id": "2eb8f535",
   "metadata": {},
   "outputs": [
    {
     "name": "stdout",
     "output_type": "stream",
     "text": [
      "[-3.35371091e-17  5.96419818e-01  1.90192379e+00  3.50165639e+00]\n"
     ]
    }
   ],
   "source": [
    "A=camino_eig_hip(4)\n",
    "print(A)"
   ]
  },
  {
   "cell_type": "markdown",
   "id": "fcc8154c",
   "metadata": {},
   "source": [
    "Con esto tengo un contraejemplo de mi hipótesis. Por lo tanto, es incorrecta :("
   ]
  },
  {
   "cell_type": "code",
   "execution_count": null,
   "id": "671b7cc8",
   "metadata": {},
   "outputs": [],
   "source": []
  }
 ],
 "metadata": {
  "kernelspec": {
   "display_name": "Python 3 (ipykernel)",
   "language": "python",
   "name": "python3"
  },
  "language_info": {
   "codemirror_mode": {
    "name": "ipython",
    "version": 3
   },
   "file_extension": ".py",
   "mimetype": "text/x-python",
   "name": "python",
   "nbconvert_exporter": "python",
   "pygments_lexer": "ipython3",
   "version": "3.9.7"
  }
 },
 "nbformat": 4,
 "nbformat_minor": 5
}
