{
 "cells": [
  {
   "cell_type": "code",
   "execution_count": 1,
   "id": "347275e2",
   "metadata": {},
   "outputs": [],
   "source": [
    "import numpy as np\n",
    "from pylab import plot, show, legend, xlabel, ylabel\n",
    "import random"
   ]
  },
  {
   "cell_type": "code",
   "execution_count": 2,
   "id": "b86bc6a1",
   "metadata": {},
   "outputs": [],
   "source": [
    "#Hace una matriz cuadrada llena de ceros\n",
    "def hacer_Matriz(n):\n",
    "    A=[]\n",
    "    for i in range(n):\n",
    "        A.append([])\n",
    "        for j in range(n):\n",
    "            A[i].append(0)\n",
    "    return A\n",
    "\n"
   ]
  },
  {
   "cell_type": "code",
   "execution_count": 3,
   "id": "599581d1",
   "metadata": {},
   "outputs": [],
   "source": [
    "#Programa para calcular eigenvalores dados los pesos\n",
    "def camino_eig_pes(n,A):\n",
    "    m=n-1    \n",
    "    C=[0]*(m+2)\n",
    "    \n",
    "    #Llena C con los valores de A\n",
    "    for i in range(0,m):\n",
    "        C[i+1]=A[i]\n",
    "\n",
    "    #Hace una matriz de tamaño n por n\n",
    "    L=hacer_Matriz(n)\n",
    "    \n",
    "    # Llena la matriz laplaciana\n",
    "    for i in range(n):\n",
    "        for j in range (n):\n",
    "            if j==i:\n",
    "                L[i][j]=C[i+1]+C[i]\n",
    "            if j==i+1:\n",
    "                L[i][j]=-C[i+1]\n",
    "            L[j][i]=L[i][j]\n",
    "    \n",
    "    #calcula los eigenvalores\n",
    "    E=np.linalg.eigvals(L)\n",
    "    #Los ordena\n",
    "    E.sort()\n",
    "    \n",
    "    return E"
   ]
  },
  {
   "cell_type": "markdown",
   "id": "53662d55",
   "metadata": {},
   "source": [
    "Programa que compara $\\lambda_2$ de las gráficas  $P_r$ y $P_s$ donde $s_{xy}=\\frac{r_{xy}+r_{\\phi(x)\\phi(y)}}{2}$"
   ]
  },
  {
   "cell_type": "code",
   "execution_count": 13,
   "id": "45497895",
   "metadata": {},
   "outputs": [
    {
     "data": {
      "image/png": "[encoded data removed]",
      "text/plain": [
       "<Figure size 432x288 with 1 Axes>"
      ]
     },
     "metadata": {
      "needs_background": "light"
     },
     "output_type": "display_data"
    }
   ],
   "source": [
    "k=10\n",
    "n=4\n",
    "Y_1=[]\n",
    "Y_2=[]\n",
    "X=[]\n",
    "for i in range(k):\n",
    "    a=random.randint(1,10)\n",
    "    b=random.randint(1,10)\n",
    "    c=random.randint(1,10)\n",
    "    R=[1/a,1/b,1/c]\n",
    "    S=[((1/a)+(1/c))/2,1/b,((1/a)+(1/c))/2]\n",
    "    E1=camino_eig_pes(n,R)\n",
    "    E2=camino_eig_pes(n,S)\n",
    "    Y_1.append(E1[1])\n",
    "    Y_2.append(E2[1])\n",
    "    X.append(i+1)\n",
    "    \n",
    "#Hago un gráfico\n",
    "plot(X,Y_1,'.',X,Y_2,'.')\n",
    "xlabel('n')\n",
    "ylabel('Conectividad algebraica')\n",
    "legend(['Normal','Promedio'])\n",
    "show() \n",
    "    "
   ]
  },
  {
   "cell_type": "code",
   "execution_count": null,
   "id": "daaa63ff",
   "metadata": {},
   "outputs": [],
   "source": []
  }
 ],
 "metadata": {
  "kernelspec": {
   "display_name": "Python 3 (ipykernel)",
   "language": "python",
   "name": "python3"
  },
  "language_info": {
   "codemirror_mode": {
    "name": "ipython",
    "version": 3
   },
   "file_extension": ".py",
   "mimetype": "text/x-python",
   "name": "python",
   "nbconvert_exporter": "python",
   "pygments_lexer": "ipython3",
   "version": "3.9.7"
  }
 },
 "nbformat": 4,
 "nbformat_minor": 5
}
